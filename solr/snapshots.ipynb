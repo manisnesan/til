{
 "cells": [
  {
   "cell_type": "code",
   "execution_count": 1,
   "metadata": {},
   "outputs": [],
   "source": [
    "#default_exp snapshots"
   ]
  },
  {
   "cell_type": "markdown",
   "metadata": {},
   "source": [
    "Outline\n",
    "- Start solr locally\n",
    "- Create a collection named \"source\" with 2 shards and 2 replicas\n",
    "- Add 3 documents to the collection and commit\n",
    "- Run backup command to create a snapshot using the curl command against source collection\n",
    "- Run restore command to restore the snapshot using the curl command against destination collection\n",
    "- Verify the documents are restored in the destination collection\n",
    "- [Optional] Delete the collections and stop solr\n"
   ]
  },
  {
   "cell_type": "code",
   "execution_count": 5,
   "metadata": {},
   "outputs": [
    {
     "name": "stdout",
     "output_type": "stream",
     "text": [
      "/home/msivanes/0Work/fusion/4.2.6\n",
      "ln: failed to create symbolic link 'latest/4.2.6': File exists\n"
     ]
    },
    {
     "name": "stdout",
     "output_type": "stream",
     "text": [
      "Starting zookeeper..\n",
      "Successfully started zookeeper on port 9983 (process ID 576527)\n",
      "Starting solr....\n",
      "Successfully started solr on port 8983 (process ID 576602)\n",
      "Starting api...........................\n",
      "Successfully started api on port 8765 (process ID 576767)\n",
      "Starting connectors-classic................\n",
      "Successfully started connectors-classic on port 8984 (process ID 577813)\n",
      "Starting connectors-rpc......\n",
      "Successfully started connectors-rpc on port 8771 (process ID 578410)\n",
      "Starting proxy.............\n",
      "Successfully started proxy on port 8764 (process ID 578643)\n",
      "Starting webapps......\n",
      "Successfully started webapps on port 8780 (process ID 579255)\n",
      "Starting admin-ui..................\n",
      "Successfully started admin-ui on port 8763 (process ID 579548)\n",
      "Lucidworks Fusion is now available at http://192.168.2.15:8764\n"
     ]
    }
   ],
   "source": [
    "# Start solr locally\n",
    "%cd  /home/msivanes/0Work/fusion/4.2.6\n",
    "!./bin/fusion start"
   ]
  },
  {
   "cell_type": "code",
   "execution_count": 8,
   "metadata": {},
   "outputs": [
    {
     "name": "stdout",
     "output_type": "stream",
     "text": [
      "zookeeper is running on port 9983 (process ID 584189)\n",
      "solr is running on port 8983 (process ID 584274)\n",
      "api is running on port 8765 (process ID 584706)\n",
      "connectors-classic is running on port 8984 (process ID 585533)\n",
      "connectors-rpc is running on port 8771 (process ID 586033)\n",
      "proxy is running on port 8764 (process ID 586165)\n",
      "webapps is running on port 8780 (process ID 586582)\n",
      "admin-ui is running on port 8763 (process ID 586738)\n"
     ]
    }
   ],
   "source": [
    "# verify solr is running\n",
    "!./bin/fusion status"
   ]
  },
  {
   "cell_type": "code",
   "execution_count": 12,
   "metadata": {},
   "outputs": [
    {
     "name": "stdout",
     "output_type": "stream",
     "text": [
      "Collection created successfully\n"
     ]
    }
   ],
   "source": [
    "# create a collection called 'source' with 2 shards and 2 replicas\n",
    "import requests\n",
    "\n",
    "url = 'http://localhost:8983/solr/admin/collections'\n",
    "params = dict(action='CREATE', name='source', numShards=2, replicationFactor=2, maxShardsPerNode=4)\n",
    "headers = {'Content-Type': 'application/json'}\n",
    "\n",
    "resp = requests.post(url, params=params, headers=headers)\n",
    "if resp.status_code == 200: print('Collection created successfully')\n",
    "else: print('Error creating collection', resp.text)"
   ]
  },
  {
   "cell_type": "code",
   "execution_count": 13,
   "metadata": {},
   "outputs": [
    {
     "name": "stdout",
     "output_type": "stream",
     "text": [
      "Documents added successfully\n"
     ]
    }
   ],
   "source": [
    "# add a few documents to the collection\n",
    "import json, random, requests\n",
    "\n",
    "url = 'http://localhost:8983/solr/source/update/json/docs'\n",
    "headers = {'Content-Type': 'application/json'}\n",
    "docs = [\n",
    "    {'id': '1', 'name': 'Alice', 'age': random.randint(20, 40), 'gender': 'F'},\n",
    "    {'id': '2', 'name': 'Bob', 'age': random.randint(20, 40), 'gender': 'M'},\n",
    "    {'id': '3', 'name': 'Charlie', 'age': random.randint(20, 40), 'gender': 'M'}\n",
    "]\n",
    "\n",
    "json_docs = json.dumps(docs)\n",
    "resp = requests.post(url, headers=headers, data=json_docs)\n",
    "\n",
    "if resp.status_code == 200: print('Documents added successfully')\n",
    "else: print('Error adding documents', resp.text)"
   ]
  },
  {
   "cell_type": "code",
   "execution_count": 17,
   "metadata": {},
   "outputs": [
    {
     "name": "stdout",
     "output_type": "stream",
     "text": [
      "Commit successful\n"
     ]
    }
   ],
   "source": [
    "url = 'http://localhost:8983/solr/source/update'\n",
    "params = {'commit': 'true'}\n",
    "headers = {'Content-Type': 'application/json'}\n",
    "\n",
    "response = requests.post(url, params=params, headers=headers)\n",
    "if response.status_code == 200: print(\"Commit successful\")\n",
    "else: print(\"Commit failed\", response.text)"
   ]
  },
  {
   "cell_type": "code",
   "execution_count": 18,
   "metadata": {},
   "outputs": [
    {
     "data": {
      "text/plain": [
       "{'responseHeader': {'zkConnected': True,\n",
       "  'status': 0,\n",
       "  'QTime': 26,\n",
       "  'params': {'q': '*:*', 'rows': '10'}},\n",
       " 'response': {'numFound': 3,\n",
       "  'start': 0,\n",
       "  'maxScore': 1.0,\n",
       "  'docs': [{'id': '1',\n",
       "    'name': ['Alice'],\n",
       "    'age': [32],\n",
       "    'gender': ['F'],\n",
       "    '_version_': 1778218855689093120},\n",
       "   {'id': '2',\n",
       "    'name': ['Bob'],\n",
       "    'age': [27],\n",
       "    'gender': ['M'],\n",
       "    '_version_': 1778218858419585024},\n",
       "   {'id': '3',\n",
       "    'name': ['Charlie'],\n",
       "    'age': [30],\n",
       "    'gender': ['M'],\n",
       "    '_version_': 1778218858425876480}]}}"
      ]
     },
     "execution_count": 18,
     "metadata": {},
     "output_type": "execute_result"
    }
   ],
   "source": [
    "# check the documents added exist in the collection\n",
    "from fastcore.all import urljson\n",
    "import warnings; warnings.filterwarnings('ignore')\n",
    "url = 'http://localhost:8983/solr/source/select'\n",
    "data = urljson(url, {'q': '*:*', 'rows': 10})\n",
    "data"
   ]
  },
  {
   "cell_type": "code",
   "execution_count": 20,
   "metadata": {},
   "outputs": [
    {
     "data": {
      "text/plain": [
       "0"
      ]
     },
     "execution_count": 20,
     "metadata": {},
     "output_type": "execute_result"
    }
   ],
   "source": [
    "# check dest collection is empty\n",
    "url = 'http://localhost:8983/solr/dest/select'\n",
    "data = urljson(url, {'q': '*:*', 'rows': 10})\n",
    "data['response']['numFound']"
   ]
  },
  {
   "cell_type": "code",
   "execution_count": 21,
   "metadata": {},
   "outputs": [
    {
     "name": "stdout",
     "output_type": "stream",
     "text": [
      "Backup successful\n"
     ]
    }
   ],
   "source": [
    "# backup the source collection\n",
    "url = 'http://localhost:8983/solr/admin/collections'\n",
    "params = dict(action='BACKUP', name='source', collection='source', location='/home/msivanes/0Work/fusion/4.2.6/backups')\n",
    "resp = requests.post(url, params=params, headers=headers)\n",
    "if resp.status_code == 200: print('Backup successful')\n",
    "else: print('Error backing up collection', resp.text)"
   ]
  },
  {
   "cell_type": "code",
   "execution_count": 26,
   "metadata": {},
   "outputs": [
    {
     "name": "stdout",
     "output_type": "stream",
     "text": [
      "Restore successful\n"
     ]
    }
   ],
   "source": [
    "# restore the dest collection with the snapshot\n",
    "# Note: The dest collection should not exists. If it exists, delete it first.\n",
    "url = 'http://localhost:8983/solr/admin/collections'\n",
    "params = dict(action='RESTORE', name='source', collection='dest', location='/home/msivanes/0Work/fusion/4.2.6/backups')\n",
    "resp = requests.post(url, params=params, headers=headers)\n",
    "if resp.status_code == 200: print('Restore successful')\n",
    "else: print('Error restoring collection', resp.text)"
   ]
  },
  {
   "cell_type": "code",
   "execution_count": 27,
   "metadata": {},
   "outputs": [
    {
     "data": {
      "text/plain": [
       "{'responseHeader': {'zkConnected': True,\n",
       "  'status': 0,\n",
       "  'QTime': 52,\n",
       "  'params': {'q': '*:*', 'rows': '10'}},\n",
       " 'response': {'numFound': 3,\n",
       "  'start': 0,\n",
       "  'maxScore': 1.0,\n",
       "  'docs': [{'id': '1',\n",
       "    'name': ['Alice'],\n",
       "    'age': [32],\n",
       "    'gender': ['F'],\n",
       "    '_version_': 1778218855689093120},\n",
       "   {'id': '2',\n",
       "    'name': ['Bob'],\n",
       "    'age': [27],\n",
       "    'gender': ['M'],\n",
       "    '_version_': 1778218858419585024},\n",
       "   {'id': '3',\n",
       "    'name': ['Charlie'],\n",
       "    'age': [30],\n",
       "    'gender': ['M'],\n",
       "    '_version_': 1778218858425876480}]}}"
      ]
     },
     "execution_count": 27,
     "metadata": {},
     "output_type": "execute_result"
    }
   ],
   "source": [
    "# check if the documents added in source are restored in the dest collection\n",
    "from fastcore.all import urljson\n",
    "import warnings; warnings.filterwarnings('ignore')\n",
    "url = 'http://localhost:8983/solr/dest/select'\n",
    "data = urljson(url, {'q': '*:*', 'rows': 10})\n",
    "data"
   ]
  },
  {
   "cell_type": "code",
   "execution_count": 24,
   "metadata": {},
   "outputs": [
    {
     "name": "stdout",
     "output_type": "stream",
     "text": [
      "Collection deleted successfully\n"
     ]
    }
   ],
   "source": [
    "url = 'http://localhost:8983/solr/admin/collections'\n",
    "params = dict(action='DELETE', name='dest')\n",
    "resp = requests.post(url, params=params)\n",
    "if resp.status_code == 200: print('Collection deleted successfully')\n",
    "else: print('Error deleting collection', resp.text)"
   ]
  }
 ],
 "metadata": {
  "kernelspec": {
   "display_name": "Python 3",
   "language": "python",
   "name": "python3"
  },
  "language_info": {
   "codemirror_mode": {
    "name": "ipython",
    "version": 3
   },
   "file_extension": ".py",
   "mimetype": "text/x-python",
   "name": "python",
   "nbconvert_exporter": "python",
   "pygments_lexer": "ipython3",
   "version": "3.9.12"
  },
  "orig_nbformat": 4
 },
 "nbformat": 4,
 "nbformat_minor": 2
}
