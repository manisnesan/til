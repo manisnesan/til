{
 "cells": [
  {
   "cell_type": "markdown",
   "id": "8ad45438-aa1f-4ae9-9413-d91089971a54",
   "metadata": {},
   "source": [
    "## 00_read.ipynb\n",
    "\n",
    "- Reading and executing notebooks. \n",
    "  - A notebook is a json.Eg: `Path(path).read_json()`\n",
    "  - Convert the json into format suitable for nbclient (instead of nbformat), we are using fastcore `dict2obj`.\n",
    "  - read_nb \n",
    "- Config\n",
    "  - nbprocess_create_config # Creates settings.ini using `locals()` passed to the func (wrapper for fastcore `save_config_file`).\n",
    "- Exporting a basic module\n",
    "  - Python module requires a `__init__.py` file in all directories considered as modules.\n",
    "- Export\n",
    "  - write cells to file along with hdr starting at index offset\n",
    "  - basic exporter to bootstrap nbprocess\n",
    "    * grab source from all cells in nb containing `export` comment\n",
    "    * find all the exported funcs to create `__all__` \n",
    "    * exec_new -> Execute `code` in a new environment and return it\n",
    "- tip: use `from pdb import set_trace()`"
   ]
  },
  {
   "cell_type": "markdown",
   "id": "7a44d05f-d041-4814-b623-177e7425197e",
   "metadata": {},
   "source": [
    "## 01_maker.ipynb\n",
    "\n",
    "- str.splitlines -> Split str into a list of lines breaking at line boundaries.\n",
    "- Variable helpers -> find_var read_var update_var\n",
    "- ModuleMaker - Helper class to create exported library from notebook source cells\n",
    "  - make_all -> create `__all__` with all exports in cells.\n",
    "  - make -> write module containing cells with `__all__` generated from all_cells. Pass `all_cells=[]` if no `__all__`.\n",
    "  - _update_all\n",
    "  - _make_exists -> make for is_new=False, additional defn are added to the bottom.\n",
    "- make_code_cell make_code_cells\n",
    "- basic_export_nb2 -> `ModuleMaker(dest/name).make(read_nb(fname).cells)`"
   ]
  },
  {
   "cell_type": "markdown",
   "id": "3c566e21-b20b-478d-8f2f-6c15612ed8ef",
   "metadata": {},
   "source": [
    "## 02_export.ipynb\n",
    "\n",
    "- NBProcessor -> Special comments at the start of a cell can be used to provide information to nbprocess about how to process a cell, so we need to be able to find the location of these comments.\n",
    "  - `extract_comments` -> nbprocess comments start with #, followed by whitespace delimited tokens, which extract_comments extracts from the start of a cell, up until a blank line or a line containing something other than comments:\n",
    "  - _param_count -> Get no. of params accepted by func 'f' using `from inspect import signature,Parameter`\n",
    "  -  `NBProcessor(nb_fname, procs=Processor, debug=True)` -> Process all cells with `process_cell`\n",
    "- From `01_everything.ipynb`\n",
    "```python\n",
    "#printme testing\n",
    "_tmp = \"Cell for testing processor subclass\"\n",
    "```\n",
    "\n",
    "```python -> - Return testing\n",
    "class _PrintExample:\n",
    "    def _printme_(self, nbp, to_print): print(to_print)\n",
    "\n",
    "everything_fn = '../tests/01_everything.ipynb'\n",
    "proc = NBProcessor(everything_fn, _PrintExample())\n",
    "proc.process()\n",
    "```\n",
    "\n",
    "- ExportModuleProc -> Processor exporting code to a module.\n",
    "  - Exported cells are stored in a dict called modules, where the keys are the modules exported to. Those without an explicit module are stored in the '#' key, which will be exported to default_exp.\n",
    "```python\n",
    "class ExportModuleProc:\n",
    "    def __init__(self): ...\n",
    "    def _default_exp_(self, nbp, exp_to): ...\n",
    "    def _exporti_(self, nbp, exp_to=None): ...\n",
    "    def _export_(self, nbp, exp_to=None): ...\n",
    "```\n",
    "- create_modules(path, dest, procs=[ExportModuleProc(), rm_comments_proc], debug=True) -> create modules from nb.\n",
    "- nb_export"
   ]
  },
  {
   "cell_type": "code",
   "execution_count": null,
   "id": "ea986e73-5dc3-41bf-80dc-e0c4f4f5a701",
   "metadata": {},
   "outputs": [],
   "source": []
  }
 ],
 "metadata": {
  "kernelspec": {
   "display_name": "nbprocess",
   "language": "python",
   "name": "nbprocess"
  },
  "language_info": {
   "codemirror_mode": {
    "name": "ipython",
    "version": 3
   },
   "file_extension": ".py",
   "mimetype": "text/x-python",
   "name": "python",
   "nbconvert_exporter": "python",
   "pygments_lexer": "ipython3",
   "version": "3.10.4"
  }
 },
 "nbformat": 4,
 "nbformat_minor": 5
}
